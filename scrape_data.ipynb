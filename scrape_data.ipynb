{
 "cells": [
  {
   "cell_type": "code",
   "execution_count": null,
   "id": "31fe9498",
   "metadata": {},
   "outputs": [
    {
     "name": "stdout",
     "output_type": "stream",
     "text": [
      "                                               title               start  \\\n",
      "0  Projektrealisierung\\nerstellt am 11.04.16 10:0... 2025-05-19 09:00:00   \n",
      "1  Lehrveranstaltung\\n\\n\\nTitel:\\n\\n\\nProjektreal... 2025-05-21 09:00:00   \n",
      "2  Lehrveranstaltung\\n\\n\\nTitel:\\n\\n\\nAusgewählte... 2025-05-23 09:00:00   \n",
      "3  Lehrveranstaltung\\n\\n\\nTitel:\\n\\n\\nWahlmodul (... 2025-05-23 09:00:00   \n",
      "4  Betrieb und Management von IT-Infrastrukturen ... 2025-05-22 09:30:00   \n",
      "\n",
      "                  end weekday  raw_date        date  \n",
      "0 2025-05-19 14:15:00      Mo  19.05.25  2025-05-19  \n",
      "1 2025-05-21 14:15:00      Mi  21.05.25  2025-05-21  \n",
      "2 2025-05-23 10:30:00      Fr  23.05.25  2025-05-23  \n",
      "3 2025-05-23 12:15:00      Fr  23.05.25  2025-05-23  \n",
      "4 2025-05-22 12:45:00      Do  22.05.25  2025-05-22  \n"
     ]
    }
   ],
   "source": [
    "import re\n",
    "import requests\n",
    "import pandas as pd\n",
    "from bs4 import BeautifulSoup\n",
    "\n",
    "def scrape_rapla_calendar(user: str, file: str, week: int = None):\n",
    "    \"\"\"\n",
    "    Scrape the Rapla calendar HTML for a given user & file (course).\n",
    "    Optionally filter nach Kalenderwoche.\n",
    "    \"\"\"\n",
    "    base_url = \"https://rapla.dhbw-karlsruhe.de/rapla\"\n",
    "    params = {\n",
    "        \"page\": \"calendar\",\n",
    "        \"user\": user,\n",
    "        \"file\": file\n",
    "    }\n",
    "    if week:\n",
    "        params[\"week\"] = week\n",
    "\n",
    "    # 1) HTML holen\n",
    "    resp = requests.get(base_url, params=params)\n",
    "    resp.raise_for_status()  # HTTP-Fehler werfen \n",
    "\n",
    "    # 2) Soup erstellen\n",
    "    soup = BeautifulSoup(resp.text, \"html.parser\")  # \n",
    "\n",
    "    # 3) gesamten Text (inkl. Zeilenumbrüche) extrahieren\n",
    "    text = soup.get_text(separator=\"\\n\")\n",
    "\n",
    "    # 4) Regex: Zeiten + Titel + Wochentag + Datum\n",
    "    #    Beispiel: \"09:00 -14:15 Projektrealisierung ... Mo 19.05.25 ...\"\n",
    "    pattern = re.compile(\n",
    "        r\"(?P<start>\\d{2}:\\d{2})\\s*-\\s*(?P<end>\\d{2}:\\d{2})\\s+\"\n",
    "        r\"(?P<title>.*?)\\s+\"\n",
    "        r\"(?P<weekday>Mo|Di|Mi|Do|Fr|Sa|So)\\s+\"\n",
    "        r\"(?P<date>\\d{2}\\.\\d{2}\\.\\d{2})\",\n",
    "        re.DOTALL\n",
    "    )\n",
    "\n",
    "    events = []\n",
    "    for m in pattern.finditer(text):\n",
    "        # Datum in ISO-Format umwandeln\n",
    "        dd, mm, yy = m.group(\"date\").split(\".\")\n",
    "        iso_date = f\"20{yy}-{mm}-{dd}\"\n",
    "\n",
    "        events.append({\n",
    "            \"title\":       m.group(\"title\").strip(),\n",
    "            \"start\":       f\"{iso_date} {m.group('start')}\",\n",
    "            \"end\":         f\"{iso_date} {m.group('end')}\",\n",
    "            \"weekday\":     m.group(\"weekday\"),\n",
    "            \"raw_date\":    m.group(\"date\")\n",
    "        })\n",
    "\n",
    "    # 5) DataFrame bauen\n",
    "    df = pd.DataFrame(events)\n",
    "    # Zeitspalten parsen\n",
    "    df[\"start\"]   = pd.to_datetime(df[\"start\"])\n",
    "    df[\"end\"]     = pd.to_datetime(df[\"end\"])\n",
    "    df[\"date\"]    = df[\"start\"].dt.date\n",
    "    return df\n",
    "\n",
    "\n",
    "df = scrape_rapla_calendar(user=\"brockmans\", file=\"WWI22B1\")\n",
    "df.head()\n"
   ]
  }
 ],
 "metadata": {
  "kernelspec": {
   "display_name": "Python 3",
   "language": "python",
   "name": "python3"
  },
  "language_info": {
   "codemirror_mode": {
    "name": "ipython",
    "version": 3
   },
   "file_extension": ".py",
   "mimetype": "text/x-python",
   "name": "python",
   "nbconvert_exporter": "python",
   "pygments_lexer": "ipython3",
   "version": "3.11.5"
  }
 },
 "nbformat": 4,
 "nbformat_minor": 5
}
