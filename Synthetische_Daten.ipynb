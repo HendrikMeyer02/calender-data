{
 "cells": [
  {
   "cell_type": "markdown",
   "id": "2e5517ee-bba3-41ff-af77-ff09c6e3720f",
   "metadata": {},
   "source": [
    "# Imports und Umgebungsvariablen"
   ]
  },
  {
   "cell_type": "code",
   "execution_count": 1,
   "id": "5eca2fd2-1801-4dcd-81d4-d2decaf9c04e",
   "metadata": {},
   "outputs": [],
   "source": [
    "import pandas as pd\n",
    "import numpy as np\n",
    "import random\n",
    "import matplotlib.pyplot as plt\n",
    "import seaborn as sns\n",
    "from faker import Faker\n",
    "from datetime import datetime, timedelta\n",
    "\n",
    "fake = Faker('de_DE')\n",
    "np.random.seed(42)\n",
    "random.seed(42)"
   ]
  },
  {
   "cell_type": "markdown",
   "id": "672d2bec-1245-4112-be1a-7c288d22893f",
   "metadata": {
    "jp-MarkdownHeadingCollapsed": true
   },
   "source": [
    "# Sonstige Variablen"
   ]
  },
  {
   "cell_type": "code",
   "execution_count": 2,
   "id": "b6f4a857-801d-4ae1-a7ba-d9cd528dc40a",
   "metadata": {},
   "outputs": [],
   "source": [
    "anteil_vegetarier = 0.3 # Anteil Vegetarier in Prozent\n",
    "uhrzeit_Vormittag = 12 # Ab dieser Uhrzeit wird der Wert false, also Nachmittag gesetzt"
   ]
  },
  {
   "cell_type": "markdown",
   "id": "0865d9b6-fc81-431d-9cea-a0e31ddb444b",
   "metadata": {},
   "source": [
    "# Daten generieren"
   ]
  },
  {
   "cell_type": "markdown",
   "id": "88656ea9-1253-47c6-adac-d485b559ca86",
   "metadata": {},
   "source": [
    "## Vorlesungen\n",
    "Die Vorlesungen sollen aus den realen rapla Daten gelesen werden.\n",
    "Mehr dazu: https://github.com/HendrikMeyer02/calender-data/"
   ]
  },
  {
   "cell_type": "markdown",
   "id": "52d9bcb3-015d-4aee-9c90-180e028aa029",
   "metadata": {},
   "source": [
    "### Daten einlesen"
   ]
  },
  {
   "cell_type": "code",
   "execution_count": 3,
   "id": "cab195c0-27ca-423a-9565-90da241aba2c",
   "metadata": {},
   "outputs": [],
   "source": [
    "df_vorlesungen_raw = pd.read_csv(\"all_calenders_2025.csv\", encoding='utf-8')\n",
    "\n",
    "# Spaltennamen bereinigen (Leerzeichen etc.)\n",
    "df_vorlesungen_raw['title'] = df_vorlesungen_raw['title'].astype(str).str.replace(r'\\s+', ' ', regex=True).str.strip()"
   ]
  },
  {
   "cell_type": "markdown",
   "id": "32f8cc35-1fc2-4445-beb5-1602d8cbf734",
   "metadata": {},
   "source": [
    "### Daten filtern"
   ]
  },
  {
   "cell_type": "code",
   "execution_count": 4,
   "id": "fb869733-502f-461b-820b-1ac1b4b88c50",
   "metadata": {},
   "outputs": [],
   "source": [
    "ausschluss_begriffe = [\"Feiertag\", \"Klausur\", \"Sonstiger Termin\", \"Prüfung\", \"Vorlesungsfrei\", \"Selbststudium\"]\n",
    "\n",
    "# 'title' enthält die beschreibenden Texte\n",
    "maske = ~df_vorlesungen_raw['title'].astype(str).str.contains('|'.join(ausschluss_begriffe), case=False, na=False)\n",
    "\n",
    "df_gefiltert = df_vorlesungen_raw[maske]\n",
    "# df_gefiltert.head()"
   ]
  },
  {
   "cell_type": "markdown",
   "id": "7fc58fa7-1bd3-4d3a-8267-d901ebf1baf5",
   "metadata": {},
   "source": [
    "### Vorlesungstabelle erstellen"
   ]
  },
  {
   "cell_type": "code",
   "execution_count": 5,
   "id": "45a8fb00-0410-4342-bcf2-68412505092a",
   "metadata": {},
   "outputs": [
    {
     "data": {
      "text/html": [
       "<div>\n",
       "<style scoped>\n",
       "    .dataframe tbody tr th:only-of-type {\n",
       "        vertical-align: middle;\n",
       "    }\n",
       "\n",
       "    .dataframe tbody tr th {\n",
       "        vertical-align: top;\n",
       "    }\n",
       "\n",
       "    .dataframe thead th {\n",
       "        text-align: right;\n",
       "    }\n",
       "</style>\n",
       "<table border=\"1\" class=\"dataframe\">\n",
       "  <thead>\n",
       "    <tr style=\"text-align: right;\">\n",
       "      <th></th>\n",
       "      <th>V_ID</th>\n",
       "      <th>title</th>\n",
       "      <th>Datum</th>\n",
       "      <th>Beginn</th>\n",
       "      <th>Ende</th>\n",
       "      <th>Kurs</th>\n",
       "      <th>Vormittag</th>\n",
       "    </tr>\n",
       "  </thead>\n",
       "  <tbody>\n",
       "    <tr>\n",
       "      <th>0</th>\n",
       "      <td>1</td>\n",
       "      <td>Lehrveranstaltung Titel: Wahlmodul (DS/SE): Ar...</td>\n",
       "      <td>2025-01-08</td>\n",
       "      <td>08:30:00</td>\n",
       "      <td>12:45:00</td>\n",
       "      <td>WWI22B1</td>\n",
       "      <td>True</td>\n",
       "    </tr>\n",
       "    <tr>\n",
       "      <th>1</th>\n",
       "      <td>2</td>\n",
       "      <td>Lehrveranstaltung Titel: Wahlmodul (SC/SE): As...</td>\n",
       "      <td>2025-01-07</td>\n",
       "      <td>08:45:00</td>\n",
       "      <td>13:00:00</td>\n",
       "      <td>WWI22B1</td>\n",
       "      <td>True</td>\n",
       "    </tr>\n",
       "    <tr>\n",
       "      <th>2</th>\n",
       "      <td>3</td>\n",
       "      <td>Lehrveranstaltung Titel: Wahlmodul (SC/SE): As...</td>\n",
       "      <td>2025-01-09</td>\n",
       "      <td>09:00:00</td>\n",
       "      <td>13:15:00</td>\n",
       "      <td>WWI22B1</td>\n",
       "      <td>True</td>\n",
       "    </tr>\n",
       "    <tr>\n",
       "      <th>3</th>\n",
       "      <td>4</td>\n",
       "      <td>Lehrveranstaltung Titel: Geschäftsprozessmanag...</td>\n",
       "      <td>2025-01-10</td>\n",
       "      <td>09:00:00</td>\n",
       "      <td>12:15:00</td>\n",
       "      <td>WWI22B1</td>\n",
       "      <td>True</td>\n",
       "    </tr>\n",
       "    <tr>\n",
       "      <th>4</th>\n",
       "      <td>5</td>\n",
       "      <td>Lehrveranstaltung Titel: Entwurf und Entwicklu...</td>\n",
       "      <td>2025-01-08</td>\n",
       "      <td>09:00:00</td>\n",
       "      <td>12:15:00</td>\n",
       "      <td>WWI22B1</td>\n",
       "      <td>True</td>\n",
       "    </tr>\n",
       "  </tbody>\n",
       "</table>\n",
       "</div>"
      ],
      "text/plain": [
       "   V_ID                                              title       Datum  \\\n",
       "0     1  Lehrveranstaltung Titel: Wahlmodul (DS/SE): Ar...  2025-01-08   \n",
       "1     2  Lehrveranstaltung Titel: Wahlmodul (SC/SE): As...  2025-01-07   \n",
       "2     3  Lehrveranstaltung Titel: Wahlmodul (SC/SE): As...  2025-01-09   \n",
       "3     4  Lehrveranstaltung Titel: Geschäftsprozessmanag...  2025-01-10   \n",
       "4     5  Lehrveranstaltung Titel: Entwurf und Entwicklu...  2025-01-08   \n",
       "\n",
       "     Beginn      Ende     Kurs  Vormittag  \n",
       "0  08:30:00  12:45:00  WWI22B1       True  \n",
       "1  08:45:00  13:00:00  WWI22B1       True  \n",
       "2  09:00:00  13:15:00  WWI22B1       True  \n",
       "3  09:00:00  12:15:00  WWI22B1       True  \n",
       "4  09:00:00  12:15:00  WWI22B1       True  "
      ]
     },
     "execution_count": 5,
     "metadata": {},
     "output_type": "execute_result"
    }
   ],
   "source": [
    "# Nur relevante Spalten verwenden\n",
    "df_vorlesungen = df_gefiltert[['title', 'Kurs', 'start', 'end', 'raw_date']].copy()\n",
    "\n",
    "# Zeitliche Felder parsen\n",
    "df_vorlesungen['Datum'] = pd.to_datetime(df_vorlesungen['raw_date'], format='%d.%m.%y').dt.date\n",
    "df_vorlesungen['Beginn'] = pd.to_datetime(df_vorlesungen['start'], format='%Y-%m-%d %H:%M:%S').dt.time\n",
    "df_vorlesungen['Ende'] = pd.to_datetime(df_vorlesungen['end'], format='%Y-%m-%d %H:%M:%S').dt.time\n",
    "\n",
    "# Kategorie beim Import berechnen\n",
    "df_vorlesungen['Vormittag'] = df_vorlesungen['Beginn'].apply(lambda t: t.hour < uhrzeit_Vormittag)\n",
    "\n",
    "# V_ID erzeugen\n",
    "df_vorlesungen = df_vorlesungen.reset_index(drop=True)\n",
    "df_vorlesungen['V_ID'] = df_vorlesungen.index + 1\n",
    "\n",
    "# Ergebnis-Vorschau\n",
    "df_vorlesungen_final = df_vorlesungen[['V_ID', 'title', 'Datum', 'Beginn', 'Ende', 'Kurs', 'Vormittag']]\n",
    "df_vorlesungen_final.head()"
   ]
  },
  {
   "cell_type": "markdown",
   "id": "bc834269-d769-4130-a4c6-aa4c07175bee",
   "metadata": {},
   "source": [
    "## Kurse"
   ]
  },
  {
   "cell_type": "code",
   "execution_count": 6,
   "id": "e3765c3d-116f-457b-8034-c06e6090f82f",
   "metadata": {},
   "outputs": [
    {
     "data": {
      "text/html": [
       "<div>\n",
       "<style scoped>\n",
       "    .dataframe tbody tr th:only-of-type {\n",
       "        vertical-align: middle;\n",
       "    }\n",
       "\n",
       "    .dataframe tbody tr th {\n",
       "        vertical-align: top;\n",
       "    }\n",
       "\n",
       "    .dataframe thead th {\n",
       "        text-align: right;\n",
       "    }\n",
       "</style>\n",
       "<table border=\"1\" class=\"dataframe\">\n",
       "  <thead>\n",
       "    <tr style=\"text-align: right;\">\n",
       "      <th></th>\n",
       "      <th>Kurs</th>\n",
       "      <th>Anzahl_Studenten</th>\n",
       "    </tr>\n",
       "  </thead>\n",
       "  <tbody>\n",
       "    <tr>\n",
       "      <th>0</th>\n",
       "      <td>TINF22B1</td>\n",
       "      <td>30</td>\n",
       "    </tr>\n",
       "    <tr>\n",
       "      <th>1</th>\n",
       "      <td>TINF22B2</td>\n",
       "      <td>30</td>\n",
       "    </tr>\n",
       "    <tr>\n",
       "      <th>2</th>\n",
       "      <td>TINF22B4</td>\n",
       "      <td>24</td>\n",
       "    </tr>\n",
       "    <tr>\n",
       "      <th>3</th>\n",
       "      <td>TINF22B5</td>\n",
       "      <td>24</td>\n",
       "    </tr>\n",
       "    <tr>\n",
       "      <th>4</th>\n",
       "      <td>TINF23B1</td>\n",
       "      <td>27</td>\n",
       "    </tr>\n",
       "  </tbody>\n",
       "</table>\n",
       "</div>"
      ],
      "text/plain": [
       "       Kurs  Anzahl_Studenten\n",
       "0  TINF22B1                30\n",
       "1  TINF22B2                30\n",
       "2  TINF22B4                24\n",
       "3  TINF22B5                24\n",
       "4  TINF23B1                27"
      ]
     },
     "execution_count": 6,
     "metadata": {},
     "output_type": "execute_result"
    }
   ],
   "source": [
    "# Eindeutige Kurse extrahieren\n",
    "kurse_liste = df_vorlesungen_final['Kurs'].dropna().unique()\n",
    "\n",
    "# DataFrame erstellen\n",
    "kurse_df = pd.DataFrame({\n",
    "    'Kurs': kurse_liste,\n",
    "    'Anzahl_Studenten': np.random.randint(20, 35, size=len(kurse_liste))  # z. B. 20–40 Studierende\n",
    "})\n",
    "\n",
    "# Sortieren (optional, alphabetisch oder nach Kurs_ID)\n",
    "kurse_df = kurse_df.sort_values('Kurs').reset_index(drop=True)\n",
    "# kurse_df\n",
    "kurse_df.head()"
   ]
  },
  {
   "cell_type": "markdown",
   "id": "6bc34a4b-8538-451c-abd1-d73424fa0a8b",
   "metadata": {},
   "source": [
    "## Studenten"
   ]
  },
  {
   "cell_type": "markdown",
   "id": "34573ad5-22b6-4d73-a9b5-404b8de2ab14",
   "metadata": {},
   "source": [
    "### Variablen"
   ]
  },
  {
   "cell_type": "code",
   "execution_count": 7,
   "id": "ee04c570-5117-4ef5-b3cc-ac54ab6d122c",
   "metadata": {},
   "outputs": [],
   "source": [
    "# Wahrscheinlichkeit, dass ein Nachschlag geholt wird\n",
    "nachschlag_Maenner = 0.5\n",
    "nachschlag_Frauen = 0.2"
   ]
  },
  {
   "cell_type": "code",
   "execution_count": 8,
   "id": "c53dab25-ad9a-4226-98a4-bc18a9547ce2",
   "metadata": {},
   "outputs": [],
   "source": [
    "studenten = []\n",
    "m_nr_counter = 10000\n",
    "\n",
    "for _, row in kurse_df.iterrows():\n",
    "    kurs = row['Kurs']\n",
    "    anzahl = row['Anzahl_Studenten']\n",
    "    \n",
    "    for _ in range(anzahl):\n",
    "        geschlecht = random.choice(['m', 'w'])\n",
    "        vegetarier = random.random() < anteil_vegetarier\n",
    "        beilage = np.random.dirichlet([1, 1])  # Summe = 1\n",
    "        nachschlag = np.clip(np.random.normal(nachschlag_Maenner if geschlecht == 'm' else nachschlag_Frauen, 0.15), 0, 1)\n",
    "\n",
    "        studenten.append({\n",
    "            'M_nr': m_nr_counter,\n",
    "            'Kurs': kurs,\n",
    "            'Geschlecht': geschlecht,\n",
    "            'Vegetarier': vegetarier,\n",
    "            'Obst': beilage[0],\n",
    "            'Salat': beilage[1],\n",
    "            'Nachschlag': round(nachschlag, 2)\n",
    "        })\n",
    "        m_nr_counter += 1\n",
    "\n",
    "studenten_df = pd.DataFrame(studenten)\n",
    "# studenten_df.head()"
   ]
  },
  {
   "cell_type": "markdown",
   "id": "117d6b00-39f4-49fb-86df-cd572e478647",
   "metadata": {},
   "source": [
    "### Wie oft der Student die Mensa besucht"
   ]
  },
  {
   "cell_type": "markdown",
   "id": "3a38ae2b-f10b-4735-931a-539cb213e1d5",
   "metadata": {},
   "source": [
    "#### Variablen"
   ]
  },
  {
   "cell_type": "code",
   "execution_count": 9,
   "id": "47774073-cb81-470a-b24a-cf0d77a42c6d",
   "metadata": {},
   "outputs": [],
   "source": [
    "mittelwert_maenner = 0.85  # Männer essen im Mittel öfter in der Mensa\n",
    "mittelwert_frauen = 0.75   # Frauen etwas weniger\n",
    "std_abw = 0.2              # Standardabweichung (Geschlechterunspezifisch)\n",
    "\n",
    "# Leeres Array für die Wahrscheinlichkeiten\n",
    "mensa_wahrscheinlichkeit = np.zeros(len(studenten_df))"
   ]
  },
  {
   "cell_type": "markdown",
   "id": "bf4030d7-7be7-4198-982d-56e2782ee633",
   "metadata": {},
   "source": [
    "#### Berechnen der generellen Wahrscheinlichkeit für einen Mensabesuch\n",
    "Diese Wahrscheinlichkeit gilt für den Fall, dass Vor- und Nachmittags Vorlesungen stattfinden. Falls dies nicht der Fall sein sollte wird der Wert verändert."
   ]
  },
  {
   "cell_type": "code",
   "execution_count": 10,
   "id": "7c5690cd-8eb1-42ae-a929-dfee4f1d0577",
   "metadata": {},
   "outputs": [
    {
     "data": {
      "text/html": [
       "<div>\n",
       "<style scoped>\n",
       "    .dataframe tbody tr th:only-of-type {\n",
       "        vertical-align: middle;\n",
       "    }\n",
       "\n",
       "    .dataframe tbody tr th {\n",
       "        vertical-align: top;\n",
       "    }\n",
       "\n",
       "    .dataframe thead th {\n",
       "        text-align: right;\n",
       "    }\n",
       "</style>\n",
       "<table border=\"1\" class=\"dataframe\">\n",
       "  <thead>\n",
       "    <tr style=\"text-align: right;\">\n",
       "      <th></th>\n",
       "      <th>M_nr</th>\n",
       "      <th>Kurs</th>\n",
       "      <th>Geschlecht</th>\n",
       "      <th>Vegetarier</th>\n",
       "      <th>Obst</th>\n",
       "      <th>Salat</th>\n",
       "      <th>Nachschlag</th>\n",
       "      <th>Mensa_Wahrscheinlichkeit</th>\n",
       "    </tr>\n",
       "  </thead>\n",
       "  <tbody>\n",
       "    <tr>\n",
       "      <th>0</th>\n",
       "      <td>10000</td>\n",
       "      <td>TINF22B1</td>\n",
       "      <td>m</td>\n",
       "      <td>True</td>\n",
       "      <td>0.983388</td>\n",
       "      <td>0.016612</td>\n",
       "      <td>0.41</td>\n",
       "      <td>0.99</td>\n",
       "    </tr>\n",
       "    <tr>\n",
       "      <th>1</th>\n",
       "      <td>10001</td>\n",
       "      <td>TINF22B1</td>\n",
       "      <td>w</td>\n",
       "      <td>True</td>\n",
       "      <td>0.358373</td>\n",
       "      <td>0.641627</td>\n",
       "      <td>0.12</td>\n",
       "      <td>0.64</td>\n",
       "    </tr>\n",
       "    <tr>\n",
       "      <th>2</th>\n",
       "      <td>10002</td>\n",
       "      <td>TINF22B1</td>\n",
       "      <td>m</td>\n",
       "      <td>False</td>\n",
       "      <td>0.568116</td>\n",
       "      <td>0.431884</td>\n",
       "      <td>0.62</td>\n",
       "      <td>1.00</td>\n",
       "    </tr>\n",
       "    <tr>\n",
       "      <th>3</th>\n",
       "      <td>10003</td>\n",
       "      <td>TINF22B1</td>\n",
       "      <td>m</td>\n",
       "      <td>False</td>\n",
       "      <td>0.303045</td>\n",
       "      <td>0.696955</td>\n",
       "      <td>0.27</td>\n",
       "      <td>0.80</td>\n",
       "    </tr>\n",
       "    <tr>\n",
       "      <th>4</th>\n",
       "      <td>10004</td>\n",
       "      <td>TINF22B1</td>\n",
       "      <td>m</td>\n",
       "      <td>True</td>\n",
       "      <td>0.428344</td>\n",
       "      <td>0.571656</td>\n",
       "      <td>0.41</td>\n",
       "      <td>1.00</td>\n",
       "    </tr>\n",
       "  </tbody>\n",
       "</table>\n",
       "</div>"
      ],
      "text/plain": [
       "    M_nr      Kurs Geschlecht  Vegetarier      Obst     Salat  Nachschlag  \\\n",
       "0  10000  TINF22B1          m        True  0.983388  0.016612        0.41   \n",
       "1  10001  TINF22B1          w        True  0.358373  0.641627        0.12   \n",
       "2  10002  TINF22B1          m       False  0.568116  0.431884        0.62   \n",
       "3  10003  TINF22B1          m       False  0.303045  0.696955        0.27   \n",
       "4  10004  TINF22B1          m        True  0.428344  0.571656        0.41   \n",
       "\n",
       "   Mensa_Wahrscheinlichkeit  \n",
       "0                      0.99  \n",
       "1                      0.64  \n",
       "2                      1.00  \n",
       "3                      0.80  \n",
       "4                      1.00  "
      ]
     },
     "execution_count": 10,
     "metadata": {},
     "output_type": "execute_result"
    }
   ],
   "source": [
    "# Indexe nach Geschlecht\n",
    "idx_maenner = studenten_df['Geschlecht'] == 'm'\n",
    "idx_frauen = studenten_df['Geschlecht'] == 'w'\n",
    "\n",
    "# Zufallswerte für Männer\n",
    "mensa_wahrscheinlichkeit[idx_maenner] = np.random.normal(\n",
    "    loc=mittelwert_maenner, scale=std_abw, size=idx_maenner.sum())\n",
    "\n",
    "# Zufallswerte für Frauen\n",
    "mensa_wahrscheinlichkeit[idx_frauen] = np.random.normal(\n",
    "    loc=mittelwert_frauen, scale=std_abw, size=idx_frauen.sum())\n",
    "\n",
    "# Wahrscheinlichkeiten auf [0,1] beschränken\n",
    "mensa_wahrscheinlichkeit = np.clip(mensa_wahrscheinlichkeit, 0, 1)\n",
    "\n",
    "# Zu DataFrame hinzufügen\n",
    "studenten_df['Mensa_Wahrscheinlichkeit'] = np.round(mensa_wahrscheinlichkeit, 2)\n",
    "\n",
    "studenten_df.head()"
   ]
  },
  {
   "cell_type": "markdown",
   "id": "90a2f93f-5859-4141-ba95-0c2eff657557",
   "metadata": {
    "jp-MarkdownHeadingCollapsed": true
   },
   "source": [
    "# Daten visualisieren"
   ]
  },
  {
   "cell_type": "code",
   "execution_count": 11,
   "id": "77892ded-fc76-455a-b403-0a82c1d55443",
   "metadata": {},
   "outputs": [
    {
     "data": {
      "image/png": "[encoded data removed]",
      "text/plain": [
       "<Figure size 1500x1200 with 2 Axes>"
      ]
     },
     "metadata": {},
     "output_type": "display_data"
    }
   ],
   "source": [
    "# Set the style for better visualizations\n",
    "sns.set(style=\"whitegrid\")\n",
    "plt.figure(figsize=(15, 12))\n",
    "\n",
    "# Create a subplot layout\n",
    "plt.subplot(2, 2, 1)\n",
    "# Visualize the distribution of Nachschlag by gender\n",
    "sns.histplot(data=studenten_df, x=\"Nachschlag\", hue=\"Geschlecht\", kde=True, multiple=\"dodge\")\n",
    "plt.title(\"Wahrscheinlichkeit einen Nachschlag zu holen\")\n",
    "plt.xlabel(\"Nachschlag\")\n",
    "plt.ylabel(\"Anzahl\")\n",
    "plt.legend(title=\"Geschlecht\", labels=[\"Frauen\", \"Männer\"])\n",
    "\n",
    "plt.subplot(2, 2, 2)\n",
    "# Visualize the distribution of Mensa_Wahrscheinlichkeit by gender\n",
    "sns.histplot(data=studenten_df, x=\"Mensa_Wahrscheinlichkeit\", hue=\"Geschlecht\", kde=True, multiple=\"dodge\")\n",
    "plt.title(\"Wahrscheinlichkeit in die Mensa zu gehen\")\n",
    "plt.xlabel(\"Mensa_Wahrscheinlichkeit\")\n",
    "plt.ylabel(\"Anzahl\")\n",
    "plt.legend(title=\"Geschlecht\", labels=[\"Frauen\", \"Männer\"])\n",
    "\n",
    "plt.tight_layout()\n",
    "plt.show()"
   ]
  },
  {
   "cell_type": "markdown",
   "id": "9e5a3ed8-7975-4576-af59-15926878ce5e",
   "metadata": {
    "jp-MarkdownHeadingCollapsed": true
   },
   "source": [
    "# Daten exportieren"
   ]
  },
  {
   "cell_type": "code",
   "execution_count": 12,
   "id": "36d9334c-d526-4e96-b94d-bc77225afe36",
   "metadata": {},
   "outputs": [],
   "source": [
    "studenten_df.to_csv('studenten_df.csv', index=False)"
   ]
  }
 ],
 "metadata": {
  "kernelspec": {
   "display_name": "Python [conda env:base] *",
   "language": "python",
   "name": "conda-base-py"
  },
  "language_info": {
   "codemirror_mode": {
    "name": "ipython",
    "version": 3
   },
   "file_extension": ".py",
   "mimetype": "text/x-python",
   "name": "python",
   "nbconvert_exporter": "python",
   "pygments_lexer": "ipython3",
   "version": "3.12.7"
  }
 },
 "nbformat": 4,
 "nbformat_minor": 5
}
